{
 "cells": [
  {
   "cell_type": "code",
   "execution_count": 1,
   "metadata": {},
   "outputs": [
    {
     "data": {
      "text/plain": [
       "True"
      ]
     },
     "execution_count": 1,
     "metadata": {},
     "output_type": "execute_result"
    }
   ],
   "source": [
    "# valid anagrams - 1\n",
    "\n",
    "def check_valid_anagram(s1, s2):\n",
    "    if len(s1) != len(s2):\n",
    "        return False\n",
    "    else:\n",
    "        return sorted(s1) == sorted(s2)\n",
    "\n",
    "\n",
    "check_valid_anagram('garden', \"danger\")\n"
   ]
  },
  {
   "cell_type": "code",
   "execution_count": 2,
   "metadata": {},
   "outputs": [
    {
     "data": {
      "text/plain": [
       "True"
      ]
     },
     "execution_count": 2,
     "metadata": {},
     "output_type": "execute_result"
    }
   ],
   "source": [
    "# valid anagrams - 2\n",
    "\n",
    "def check_valid_anagram(s1, s2):\n",
    "    if len(s1) != len(s2):\n",
    "        return False\n",
    "    freq1 = {}\n",
    "    freq2 = {}\n",
    "\n",
    "    for ch in s1:\n",
    "        if ch in freq1:\n",
    "            freq1[ch] += 1\n",
    "        else:\n",
    "            freq1[ch] = 1\n",
    "        if ch in freq2:\n",
    "            freq2[ch] += 1\n",
    "        else:\n",
    "            freq2[ch] = 1\n",
    "\n",
    "    for key in freq1:\n",
    "        if key not in freq2 or freq1[key] != freq2[key]:\n",
    "            return False\n",
    "        return True\n",
    "\n",
    "\n",
    "check_valid_anagram(\"garden\", \"danger\")\n"
   ]
  },
  {
   "cell_type": "code",
   "execution_count": 3,
   "metadata": {},
   "outputs": [
    {
     "data": {
      "text/plain": [
       "True"
      ]
     },
     "execution_count": 3,
     "metadata": {},
     "output_type": "execute_result"
    }
   ],
   "source": [
    "# anagrams - 3\n",
    "\n",
    "from collections import Counter\n",
    "\n",
    "\n",
    "def check_valid_anagram(s1, s2):\n",
    "    if len(s1) != len(s2):\n",
    "        return False\n",
    "    else:\n",
    "        return Counter(s1) == Counter(s2)\n",
    "\n",
    "\n",
    "check_valid_anagram('garden', \"danger\")\n"
   ]
  },
  {
   "cell_type": "code",
   "execution_count": 4,
   "metadata": {},
   "outputs": [
    {
     "name": "stdout",
     "output_type": "stream",
     "text": [
      "[1, 2]\n",
      "[3, 3]\n",
      "[4, 7]\n",
      "[10, 11]\n"
     ]
    }
   ],
   "source": [
    "# First and Last Indecies\n",
    "# using binary search\n",
    "\n",
    "def get_start(arr, target):\n",
    "    if arr[0] == target:\n",
    "        return 0\n",
    "    left = 0\n",
    "    right = len(arr) - 1\n",
    "    while(left <= right):\n",
    "        mid = (left + right)//2\n",
    "        if(arr[mid] == target) and (arr[mid - 1] < target):\n",
    "            return mid\n",
    "        elif(arr[mid] < target):\n",
    "            left = mid + 1\n",
    "        else:\n",
    "            right = mid - 1\n",
    "    return -1\n",
    "\n",
    "\n",
    "def get_end(arr, target):\n",
    "    if arr[-1] == target:\n",
    "        return len(arr) - 1\n",
    "    left = 0\n",
    "    right = len(arr) - 1\n",
    "    while(left <= right):\n",
    "        mid = (left + right)//2\n",
    "        if(arr[mid] == target) and (arr[mid + 1] > target):\n",
    "            return mid\n",
    "        elif(arr[mid] > target):\n",
    "            right = mid - 1\n",
    "        else:\n",
    "            left = mid + 1\n",
    "    return -1\n",
    "\n",
    "def get_indecies(arr, target):\n",
    "    if len(arr) == 0 or arr[0] > target or arr[-1] < target:\n",
    "        return [-1, -1]\n",
    "    start = get_start(arr, target)\n",
    "    end = get_end(arr, target)\n",
    "    return [start, end]\n",
    "\n",
    "\n",
    "arr = [1, 3, 3, 4, 5, 5, 5 ,5, 7, 8, 9, 9]\n",
    "print(get_indecies(arr, 3))\n",
    "print(get_indecies(arr, 4))\n",
    "print(get_indecies(arr, 5))\n",
    "print(get_indecies(arr, 9))\n"
   ]
  },
  {
   "cell_type": "code",
   "execution_count": 5,
   "metadata": {},
   "outputs": [
    {
     "name": "stdout",
     "output_type": "stream",
     "text": [
      "7\n"
     ]
    }
   ],
   "source": [
    "# kth largest element - 1\n",
    "\n",
    "def find_kth_largest(arr, k):\n",
    "    for i in range(k -1):\n",
    "        arr.remove(max(arr))\n",
    "    return max(arr)\n",
    "\n",
    "arr = [8, 9, 4, 5, 3, 7, 23, 5]\n",
    "print(find_kth_largest(arr, 4))"
   ]
  },
  {
   "cell_type": "code",
   "execution_count": 6,
   "metadata": {},
   "outputs": [
    {
     "data": {
      "text/plain": [
       "8"
      ]
     },
     "execution_count": 6,
     "metadata": {},
     "output_type": "execute_result"
    }
   ],
   "source": [
    "# find kth largest - 2\n",
    "\n",
    "def find_kth_largest(arr, k):\n",
    "    n = len(arr)\n",
    "    arr.sort()\n",
    "    return arr[n - k]\n",
    "\n",
    "\n",
    "arr = [8, 9, 4, 5, 3, 7, 23, 5]\n",
    "find_kth_largest(arr, 3)\n"
   ]
  },
  {
   "cell_type": "code",
   "execution_count": 7,
   "metadata": {},
   "outputs": [
    {
     "name": "stdout",
     "output_type": "stream",
     "text": [
      "[0, 1, 3, 3, 4, 23, 32, 45, 435]\n"
     ]
    }
   ],
   "source": [
    "# Heaps\n",
    "\n",
    "class MinHeap:\n",
    "    def __init__(self, arr = None):\n",
    "        self.heap = []\n",
    "        if type(arr) is list:\n",
    "           self.heap = arr.copy()\n",
    "           for i in range(len(self.heap))[::-1]:\n",
    "               self._siftDown(i)\n",
    "    \n",
    "    def _siftUp(self, i):\n",
    "        parent == (i - 1)//2\n",
    "        while i != 0 and self.heap[parent] > self.heap[i]:\n",
    "            self.heap[i], self.heap[parent] = self.heap[i], self.heap[parent]\n",
    "            i = parent\n",
    "            parent = (i - 1)//2\n",
    "\n",
    "\n",
    "\n",
    "    def _siftDown(self, i):\n",
    "        left = 2 * i + 1\n",
    "        right = 2 * i + 2\n",
    "        while (left < len(self.heap) and self.heap[left] < self.heap[i]) or (right < len(self.heap) and self.heap[right] < self.heap[i]):\n",
    "            smallest = left if right >= len(self.heap) or self.heap[left] < self.heap[right] else right\n",
    "            self.heap[i], self.heap[smallest] = self.heap[smallest], self.heap[i]\n",
    "            i = smallest\n",
    "            left = 2 * i + 1\n",
    "            right = 2 * i + 2\n",
    "\n",
    "    def insert(self, element):\n",
    "        self.heap.append(element)\n",
    "        self._siftDown(len(self.heap) - 1)\n",
    "    \n",
    "    def getMin(self):\n",
    "        return self.heap[0] if len(self.heap) > 0 else None\n",
    "    \n",
    "    def extractMin(self):\n",
    "        if len(self.heap) == 0:\n",
    "            return None\n",
    "        minVal = self.heap[0]\n",
    "        self.heap[0], self.heap[-1] = self.heap[-1], self.heap[0]\n",
    "        self.heap.pop()\n",
    "        self._siftDown(0)\n",
    "        return minVal\n",
    "    \n",
    "    def update_by_index(self, i, new):\n",
    "        old = self.heap[i]\n",
    "        self.heap[i] = new\n",
    "        if old < new:\n",
    "            self._siftDown(i)\n",
    "        else:\n",
    "            self._siftUp(i)\n",
    "    \n",
    "    def update(self, old, new):\n",
    "        for old in self.heap:\n",
    "            self.update_by_index(self.heap.index(old), new)\n",
    "\n",
    "\n",
    "def heapsort(arr):\n",
    "    heap = MinHeap(arr)\n",
    "    return [heap.extractMin() for i in range(len(heap.heap))]\n",
    "\n",
    "arr = [23, 3, 435, 4, 45, 3, 32, 1, 0]\n",
    "print(heapsort(arr))\n",
    "\n",
    "\n",
    "class PriorityQueue:\n",
    "    def __init__(self):\n",
    "        self.queue = MinHeap()\n",
    "\n",
    "    def enqueue(self, element):\n",
    "        self.queue.insert(element)\n",
    "\n",
    "    def peek(self):\n",
    "        return self.queue.getMax()\n",
    "\n",
    "    def dequeue(self, element):\n",
    "        return self.queue.extractMax()\n",
    "\n",
    "    def is_empty(self):\n",
    "        return len(self.queue.heap) == 0\n",
    "\n",
    "    def change_priority_by_index(self, i, new):\n",
    "        self.queue.update_by_index(i, new)\n",
    "\n",
    "    def change_priority(self, old, new):\n",
    "        self.queue.update(old, new)\n"
   ]
  },
  {
   "cell_type": "code",
   "execution_count": 8,
   "metadata": {},
   "outputs": [
    {
     "name": "stdout",
     "output_type": "stream",
     "text": [
      "[435, 45, 32, 23, 4, 3, 3, 1, 0]\n"
     ]
    }
   ],
   "source": [
    "# Max Heap\n",
    "\n",
    "class MaxHeap:\n",
    "    def __init__(self, arr = None):\n",
    "        self.heap = []\n",
    "        if type(arr) is list:\n",
    "           self.heap = arr.copy()\n",
    "           for i in range(len(self.heap))[::-1]:\n",
    "               self._siftDown(i)\n",
    "    \n",
    "    def _siftUp(self, i):\n",
    "        parent == (i - 1)//2\n",
    "        while i != 0 and self.heap[parent] < self.heap[i]:\n",
    "            self.heap[i], self.heap[parent] = self.heap[i], self.heap[parent]\n",
    "            i = parent\n",
    "            parent = (i - 1)//2\n",
    "\n",
    "\n",
    "\n",
    "    def _siftDown(self, i):\n",
    "        left = 2 * i + 1\n",
    "        right = 2 * i + 2\n",
    "        while (left < len(self.heap) and self.heap[left] > self.heap[i]) or (right < len(self.heap) and self.heap[right] > self.heap[i]):\n",
    "\n",
    "            largest = left if (right >= len(self.heap) or self.heap[left] > self.heap[right]) else right\n",
    "            self.heap[i], self.heap[largest] = self.heap[largest], self.heap[i]\n",
    "            i = largest\n",
    "            left = 2 * i + 1\n",
    "            right = 2 * i + 2\n",
    "\n",
    "    def insert(self, element):\n",
    "        self.heap.append(element)\n",
    "        self._siftDown(len(self.heap) - 1)\n",
    "    \n",
    "    def getMax(self):\n",
    "        return self.heap[0] if len(self.heap) > 0 else None\n",
    "    \n",
    "    def extractMax(self):\n",
    "        if len(self.heap) == 0:\n",
    "            return None\n",
    "        minVal = self.heap[0]\n",
    "        self.heap[0], self.heap[-1] = self.heap[-1], self.heap[0]\n",
    "        self.heap.pop()\n",
    "        self._siftDown(0)\n",
    "        return minVal\n",
    "    \n",
    "    def update_by_index(self, i, new):\n",
    "        old = self.heap[i]\n",
    "        self.heap[i] = new\n",
    "        if old > new:\n",
    "            self._siftDown(i)\n",
    "        else:\n",
    "            self._siftUp(i)\n",
    "    \n",
    "    def update(self, old, new):\n",
    "        for old in self.heap:\n",
    "            self.update_by_index(self.heap.index(old), new)\n",
    "\n",
    "\n",
    "def heapsort(arr):\n",
    "    heap = MaxHeap(arr)\n",
    "    return [heap.extractMax() for i in range(len(heap.heap))]\n",
    "\n",
    "\n",
    "arr = [23, 3, 435, 4, 45, 3, 32, 1, 0]\n",
    "print(heapsort(arr))\n",
    "\n",
    "\n",
    "class PriorityQueue:\n",
    "    def __init__(self):\n",
    "        self.queue = MaxHeap()\n",
    "\n",
    "    def enqueue(self, element):\n",
    "        self.queue.insert(element)\n",
    "\n",
    "    def peek(self):\n",
    "        return self.queue.get_max()\n",
    "\n",
    "    def dequeue(self, element):\n",
    "        return self.queue.extract_max()\n",
    "\n",
    "    def is_empty(self):\n",
    "        return len(self.queue.heap) == 0\n",
    "\n",
    "    def change_priority_by_index(self, i, new):\n",
    "        self.queue.update_by_index(i, new)\n",
    "\n",
    "    def change_priority(self, old, new):\n",
    "        self.queue.update(old, new)\n"
   ]
  },
  {
   "cell_type": "code",
   "execution_count": 9,
   "metadata": {},
   "outputs": [
    {
     "data": {
      "text/plain": [
       "8"
      ]
     },
     "execution_count": 9,
     "metadata": {},
     "output_type": "execute_result"
    }
   ],
   "source": [
    "# find kth largest - 3\n",
    "\n",
    "from heapq import *\n",
    "\n",
    "def find_kth_largest(arr, k):\n",
    "    arr = [-x for x in arr]\n",
    "    heapify(arr)\n",
    "    for i in range(k-1):\n",
    "        heappop(arr)\n",
    "    return -heappop(arr)\n",
    "\n",
    "\n",
    "arr = [8, 9, 4, 5, 3, 7, 23, 5]\n",
    "find_kth_largest(arr, 3)\n"
   ]
  },
  {
   "cell_type": "code",
   "execution_count": 10,
   "metadata": {},
   "outputs": [],
   "source": [
    "#4 tree symmetry\n",
    "\n",
    "def check_symmetry(root1, root2):\n",
    "    if root1 is None and root2 is None:\n",
    "        return True\n",
    "    if (root1 is None) != (root2 is None) or (root1.val != root2.val):\n",
    "        return False\n",
    "    return check_symmetry(root1.left, root2.right) and check_symmetry(root1.right, root2.left)\n",
    "\n",
    "def check_tree_symmetry(root):\n",
    "    if root is None:\n",
    "        return True\n",
    "    return check_symmetry(root.left, root.right)\n",
    "\n"
   ]
  },
  {
   "cell_type": "code",
   "execution_count": 11,
   "metadata": {},
   "outputs": [
    {
     "name": "stdout",
     "output_type": "stream",
     "text": [
      "['(((())))', '((()()))', '((())())', '((()))()', '(()(()))', '(()()())', '(()())()', '(())(())', '(())()()', '()((()))', '()(()())', '()(())()', '()()(())', '()()()()']\n"
     ]
    }
   ],
   "source": [
    "# Generate Parenthesis\n",
    "\n",
    "valid = []\n",
    "stack = []\n",
    "n = 4\n",
    "\n",
    "def generate(open, close):\n",
    "    if(open == close == n):\n",
    "        valid.append(\"\".join(stack))\n",
    "        return\n",
    "    if open < n:\n",
    "        stack.append('(')\n",
    "        generate(open + 1, close)\n",
    "        stack.pop()\n",
    "    if close < open:\n",
    "        stack.append(')')\n",
    "        generate(open, close + 1)\n",
    "        stack.pop()\n",
    "\n",
    "generate(0, 0)\n",
    "print(valid)\n"
   ]
  },
  {
   "cell_type": "code",
   "execution_count": 12,
   "metadata": {},
   "outputs": [
    {
     "data": {
      "text/plain": [
       "['((()))', '(()())', '(())()', '()(())', '()()()']"
      ]
     },
     "execution_count": 12,
     "metadata": {},
     "output_type": "execute_result"
    }
   ],
   "source": [
    "# Generate Parenthesis - 2\n",
    "\n",
    "def generate(n):\n",
    "    def rec(n, diff, comb, combs):\n",
    "        if diff < 0 or diff > n:\n",
    "            return\n",
    "        elif n == 0:\n",
    "            if diff == 0:\n",
    "                combs.append(''.join(comb))\n",
    "        else:\n",
    "            comb.append('(')\n",
    "            rec(n-1, diff+1, comb, combs)\n",
    "            comb.pop()\n",
    "            comb.append(')')\n",
    "            rec(n-1, diff-1, comb, combs)\n",
    "            comb.pop()\n",
    "    combs = []\n",
    "    rec(2*n, 0, [], combs)\n",
    "    return combs\n",
    "\n",
    "generate(3)"
   ]
  },
  {
   "cell_type": "code",
   "execution_count": 13,
   "metadata": {},
   "outputs": [
    {
     "data": {
      "text/plain": [
       "3"
      ]
     },
     "execution_count": 13,
     "metadata": {},
     "output_type": "execute_result"
    }
   ],
   "source": [
    "# Gas Station\n",
    "\n",
    "def can_traverse(gas, cost, start):\n",
    "    n = len(gas)\n",
    "    remaining = 0\n",
    "    i = start\n",
    "    started = False\n",
    "    while i != start or not started:\n",
    "        started = True\n",
    "        remaining += gas[i] - cost[i]\n",
    "        if remaining < 0:\n",
    "            return False\n",
    "        i = (i + 1) % n\n",
    "    return True\n",
    "\n",
    "def check_traverse(gas, cost):\n",
    "    for i in range(len(gas)):\n",
    "        if can_traverse(gas, cost, i):\n",
    "            return i\n",
    "    return -1\n",
    "\n",
    "gas = [1,2,3,4,5] \n",
    "cost = [3,4,5,1,2]\n",
    "check_traverse(gas, cost)"
   ]
  },
  {
   "cell_type": "code",
   "execution_count": 14,
   "metadata": {},
   "outputs": [
    {
     "data": {
      "text/plain": [
       "3"
      ]
     },
     "execution_count": 14,
     "metadata": {},
     "output_type": "execute_result"
    }
   ],
   "source": [
    "# Gas Station - 2\n",
    "\n",
    "def gas_station(gas, cost):\n",
    "    remaining = 0\n",
    "    prev_remaining = 0\n",
    "    candidate = 0\n",
    "    for i in range(len(gas)):\n",
    "        remaining += gas[i] - cost[i]\n",
    "        if remaining < 0:\n",
    "            candidate = i+1\n",
    "            prev_remaining += remaining\n",
    "            remaining = 0\n",
    "    if candidate == len(gas) or remaining+prev_remaining < 0:\n",
    "        return -1\n",
    "    else:\n",
    "        return candidate\n",
    "\n",
    "\n",
    "gas = [1, 2, 3, 4, 5]\n",
    "cost = [3, 4, 5, 1, 2]\n",
    "gas_station(gas, cost)"
   ]
  },
  {
   "cell_type": "code",
   "execution_count": null,
   "metadata": {},
   "outputs": [],
   "source": []
  }
 ],
 "metadata": {
  "interpreter": {
   "hash": "2be5faf79681da6f2a61fdfdd5405d65d042280f7fba6178067603e3a2925119"
  },
  "kernelspec": {
   "display_name": "Python 3.10.0 64-bit",
   "language": "python",
   "name": "python3"
  },
  "language_info": {
   "codemirror_mode": {
    "name": "ipython",
    "version": 3
   },
   "file_extension": ".py",
   "mimetype": "text/x-python",
   "name": "python",
   "nbconvert_exporter": "python",
   "pygments_lexer": "ipython3",
   "version": "3.10.0"
  },
  "orig_nbformat": 4
 },
 "nbformat": 4,
 "nbformat_minor": 2
}
