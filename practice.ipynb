{
 "cells": [
  {
   "cell_type": "code",
   "execution_count": 3,
   "metadata": {},
   "outputs": [
    {
     "data": {
      "text/plain": [
       "False"
      ]
     },
     "execution_count": 3,
     "metadata": {},
     "output_type": "execute_result"
    }
   ],
   "source": [
    "# valid anagrams - 1\n",
    "\n",
    "def check_valid_anagram(s1, s2):\n",
    "    if len(s1) != len(s2):\n",
    "        return False\n",
    "    else:\n",
    "        return sorted(s1) == sorted(s2)\n",
    "\n",
    "\n",
    "check_valid_anagram('garden', \"danger\")\n"
   ]
  },
  {
   "cell_type": "code",
   "execution_count": 8,
   "metadata": {},
   "outputs": [
    {
     "data": {
      "text/plain": [
       "False"
      ]
     },
     "execution_count": 8,
     "metadata": {},
     "output_type": "execute_result"
    }
   ],
   "source": [
    "# valid anagrams - 2\n",
    "\n",
    "def check_valid_anagram(s1, s2):\n",
    "    if len(s1) != len(s2):\n",
    "        return False\n",
    "    freq1 = {}\n",
    "    freq2 = {}\n",
    "\n",
    "    for ch in s1:\n",
    "        if ch in freq1:\n",
    "            freq1[ch] += 1\n",
    "        else:\n",
    "            freq1[ch] = 1\n",
    "        if ch in freq2:\n",
    "            freq2[ch] += 1\n",
    "        else:\n",
    "            freq2[ch] = 1\n",
    "\n",
    "    for key in freq1:\n",
    "        if key not in freq2 or freq1[key] != freq2[key]:\n",
    "            return False\n",
    "        return True\n",
    "\n",
    "\n",
    "check_valid_anagram(\"garden\", \"danger\")\n"
   ]
  },
  {
   "cell_type": "code",
   "execution_count": 7,
   "metadata": {},
   "outputs": [
    {
     "data": {
      "text/plain": [
       "False"
      ]
     },
     "execution_count": 7,
     "metadata": {},
     "output_type": "execute_result"
    }
   ],
   "source": [
    "# anagrams - 3\n",
    "\n",
    "from collections import Counter\n",
    "\n",
    "\n",
    "def check_valid_anagram(s1, s2):\n",
    "    if len(s1) != len(s2):\n",
    "        return False\n",
    "    else:\n",
    "        return Counter(s1) == Counter(s2)\n",
    "\n",
    "\n",
    "check_valid_anagram('garden', \"danger\")\n"
   ]
  },
  {
   "cell_type": "code",
   "execution_count": 12,
   "metadata": {},
   "outputs": [
    {
     "name": "stdout",
     "output_type": "stream",
     "text": [
      "[1, 2]\n",
      "[3, 3]\n",
      "[4, 7]\n",
      "[10, 11]\n"
     ]
    }
   ],
   "source": [
    "# First and Last Indecies\n",
    "# using binary search\n",
    "\n",
    "def get_start(arr, target):\n",
    "    if arr[0] == target:\n",
    "        return 0\n",
    "    left = 0\n",
    "    right = len(arr) - 1\n",
    "    while(left <= right):\n",
    "        mid = (left + right)//2\n",
    "        if(arr[mid] == target) and (arr[mid - 1] < target):\n",
    "            return mid\n",
    "        elif(arr[mid] < target):\n",
    "            left = mid + 1\n",
    "        else:\n",
    "            right = mid - 1\n",
    "    return -1\n",
    "\n",
    "\n",
    "def get_end(arr, target):\n",
    "    if arr[-1] == target:\n",
    "        return len(arr) - 1\n",
    "    left = 0\n",
    "    right = len(arr) - 1\n",
    "    while(left <= right):\n",
    "        mid = (left + right)//2\n",
    "        if(arr[mid] == target) and (arr[mid + 1] > target):\n",
    "            return mid\n",
    "        elif(arr[mid] > target):\n",
    "            right = mid - 1\n",
    "        else:\n",
    "            left = mid + 1\n",
    "    return -1\n",
    "\n",
    "def get_indecies(arr, target):\n",
    "    if len(arr) == 0 or arr[0] > target or arr[-1] < target:\n",
    "        return [-1, -1]\n",
    "    start = get_start(arr, target)\n",
    "    end = get_end(arr, target)\n",
    "    return [start, end]\n",
    "\n",
    "\n",
    "arr = [1, 3, 3, 4, 5, 5, 5 ,5, 7, 8, 9, 9]\n",
    "print(get_indecies(arr, 3))\n",
    "print(get_indecies(arr, 4))\n",
    "print(get_indecies(arr, 5))\n",
    "print(get_indecies(arr, 9))\n"
   ]
  }
 ],
 "metadata": {
  "interpreter": {
   "hash": "2be5faf79681da6f2a61fdfdd5405d65d042280f7fba6178067603e3a2925119"
  },
  "kernelspec": {
   "display_name": "Python 3.10.0 64-bit",
   "language": "python",
   "name": "python3"
  },
  "language_info": {
   "codemirror_mode": {
    "name": "ipython",
    "version": 3
   },
   "file_extension": ".py",
   "mimetype": "text/x-python",
   "name": "python",
   "nbconvert_exporter": "python",
   "pygments_lexer": "ipython3",
   "version": "3.10.0"
  },
  "orig_nbformat": 4
 },
 "nbformat": 4,
 "nbformat_minor": 2
}
